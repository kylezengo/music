{
 "cells": [
  {
   "cell_type": "code",
   "execution_count": 1,
   "metadata": {},
   "outputs": [],
   "source": [
    "# https://github.com/evanm31/p4k-scraper/blob/master/data/scrapefork.py"
   ]
  },
  {
   "cell_type": "code",
   "execution_count": 2,
   "metadata": {},
   "outputs": [],
   "source": [
    "# !python -m pip install retry\n",
    "# !python -m pip install backoff"
   ]
  },
  {
   "cell_type": "markdown",
   "metadata": {},
   "source": [
    "#### Import packages and set up enviornment"
   ]
  },
  {
   "cell_type": "code",
   "execution_count": 3,
   "metadata": {},
   "outputs": [],
   "source": [
    "import urllib\n",
    "import re\n",
    "import time\n",
    "import retry\n",
    "import backoff\n",
    "import pandas as pd\n",
    "import requests\n",
    "import datetime\n",
    "import os\n",
    "from bs4 import BeautifulSoup\n",
    "\n",
    "import pitchfork_ratings_def # my custom functions from github\n",
    "\n",
    "if os.name == \"posix\":\n",
    "    data_path = \"/Users/kylezengo/Desktop/DS/Music Ratings/\""
   ]
  },
  {
   "cell_type": "markdown",
   "metadata": {},
   "source": [
    "#### Load historic data"
   ]
  },
  {
   "cell_type": "code",
   "execution_count": 4,
   "metadata": {},
   "outputs": [
    {
     "name": "stdout",
     "output_type": "stream",
     "text": [
      "26806 album review links\n"
     ]
    }
   ],
   "source": [
    "# Load list of album review links\n",
    "links_file_list = os.listdir(data_path+\"links\")\n",
    "\n",
    "links_list = []\n",
    "for i in links_file_list:\n",
    "    links = open(data_path+\"links/\"+i)\n",
    "    links = links.read().splitlines()\n",
    "    \n",
    "    links_list += links\n",
    "\n",
    "links_list = list(set(links_list))\n",
    "links_list = [x for x in links_list if x.startswith(\"https\")]\n",
    "print(f'{len(links_list)} album review links')"
   ]
  },
  {
   "cell_type": "code",
   "execution_count": 5,
   "metadata": {},
   "outputs": [],
   "source": [
    "# # Not sure what to do with this yet...\n",
    "# pd.read_csv(data_path+\"reviews/pitchfork_reviews_hist.csv\").head()"
   ]
  },
  {
   "cell_type": "code",
   "execution_count": 6,
   "metadata": {},
   "outputs": [
    {
     "name": "stdout",
     "output_type": "stream",
     "text": [
      "26806 album reviews in data frame\n"
     ]
    },
    {
     "data": {
      "text/html": [
       "<div>\n",
       "<style scoped>\n",
       "    .dataframe tbody tr th:only-of-type {\n",
       "        vertical-align: middle;\n",
       "    }\n",
       "\n",
       "    .dataframe tbody tr th {\n",
       "        vertical-align: top;\n",
       "    }\n",
       "\n",
       "    .dataframe thead th {\n",
       "        text-align: right;\n",
       "    }\n",
       "</style>\n",
       "<table border=\"1\" class=\"dataframe\">\n",
       "  <thead>\n",
       "    <tr style=\"text-align: right;\">\n",
       "      <th></th>\n",
       "      <th>artist</th>\n",
       "      <th>album</th>\n",
       "      <th>score</th>\n",
       "      <th>genre</th>\n",
       "      <th>review</th>\n",
       "      <th>best</th>\n",
       "      <th>reviewed_date</th>\n",
       "      <th>link</th>\n",
       "    </tr>\n",
       "  </thead>\n",
       "  <tbody>\n",
       "    <tr>\n",
       "      <th>0</th>\n",
       "      <td>Harmony</td>\n",
       "      <td>Gossip</td>\n",
       "      <td>5.3</td>\n",
       "      <td>Pop/R&amp;B</td>\n",
       "      <td>Dr. Seuss is trashed at the club—can you pleaa...</td>\n",
       "      <td>0</td>\n",
       "      <td>October 28, 2024</td>\n",
       "      <td>https://pitchfork.com/reviews/albums/harmony-g...</td>\n",
       "    </tr>\n",
       "    <tr>\n",
       "      <th>1</th>\n",
       "      <td>Mediopicky</td>\n",
       "      <td>el precio de la yuca / Bexaco y rico</td>\n",
       "      <td>7.9</td>\n",
       "      <td>Electronic Reviewed: October 28, 2024 Are toda...</td>\n",
       "      <td>Are today’s urbano artists getting too big for...</td>\n",
       "      <td>0</td>\n",
       "      <td>October 28, 2024</td>\n",
       "      <td>https://pitchfork.com/reviews/albums/mediopick...</td>\n",
       "    </tr>\n",
       "    <tr>\n",
       "      <th>2</th>\n",
       "      <td>Fievel Is Glauque</td>\n",
       "      <td>Rong Weicknes</td>\n",
       "      <td>8.0</td>\n",
       "      <td>Experimental / Jazz</td>\n",
       "      <td>Fievel Is Glauque conjure up visions of the bu...</td>\n",
       "      <td>0</td>\n",
       "      <td>October 28, 2024</td>\n",
       "      <td>https://pitchfork.com/reviews/albums/fievel-is...</td>\n",
       "    </tr>\n",
       "    <tr>\n",
       "      <th>3</th>\n",
       "      <td>Missy Elliott</td>\n",
       "      <td>Da Real World</td>\n",
       "      <td>8.0</td>\n",
       "      <td>Rap</td>\n",
       "      <td>“Have you ever had a dream, Neo, that you were...</td>\n",
       "      <td>0</td>\n",
       "      <td>October 27, 2024</td>\n",
       "      <td>https://pitchfork.com/reviews/albums/missy-ell...</td>\n",
       "    </tr>\n",
       "    <tr>\n",
       "      <th>4</th>\n",
       "      <td>Boduf Songs</td>\n",
       "      <td>Lion Devours the Sun</td>\n",
       "      <td>7.0</td>\n",
       "      <td>Folk/Country</td>\n",
       "      <td>Mat Sweet lives in a world that's interesting ...</td>\n",
       "      <td>0</td>\n",
       "      <td>October 16, 2006</td>\n",
       "      <td>https://pitchfork.com/reviews/albums/9491-lion...</td>\n",
       "    </tr>\n",
       "  </tbody>\n",
       "</table>\n",
       "</div>"
      ],
      "text/plain": [
       "              artist                                 album  score  \\\n",
       "0            Harmony                                Gossip    5.3   \n",
       "1         Mediopicky  el precio de la yuca / Bexaco y rico    7.9   \n",
       "2  Fievel Is Glauque                         Rong Weicknes    8.0   \n",
       "3      Missy Elliott                         Da Real World    8.0   \n",
       "4        Boduf Songs                  Lion Devours the Sun    7.0   \n",
       "\n",
       "                                               genre  \\\n",
       "0                                            Pop/R&B   \n",
       "1  Electronic Reviewed: October 28, 2024 Are toda...   \n",
       "2                                Experimental / Jazz   \n",
       "3                                                Rap   \n",
       "4                                       Folk/Country   \n",
       "\n",
       "                                              review  best     reviewed_date  \\\n",
       "0  Dr. Seuss is trashed at the club—can you pleaa...     0  October 28, 2024   \n",
       "1  Are today’s urbano artists getting too big for...     0  October 28, 2024   \n",
       "2  Fievel Is Glauque conjure up visions of the bu...     0  October 28, 2024   \n",
       "3  “Have you ever had a dream, Neo, that you were...     0  October 27, 2024   \n",
       "4  Mat Sweet lives in a world that's interesting ...     0  October 16, 2006   \n",
       "\n",
       "                                                link  \n",
       "0  https://pitchfork.com/reviews/albums/harmony-g...  \n",
       "1  https://pitchfork.com/reviews/albums/mediopick...  \n",
       "2  https://pitchfork.com/reviews/albums/fievel-is...  \n",
       "3  https://pitchfork.com/reviews/albums/missy-ell...  \n",
       "4  https://pitchfork.com/reviews/albums/9491-lion...  "
      ]
     },
     "execution_count": 6,
     "metadata": {},
     "output_type": "execute_result"
    }
   ],
   "source": [
    "reviews_file_list = os.listdir(data_path+\"reviews\")\n",
    "reviews_file_list.remove('pitchfork_reviews_hist.csv')\n",
    "\n",
    "reviews = []\n",
    "for i in reviews_file_list:\n",
    "    df = pd.read_csv(data_path+\"reviews/\"+i)\n",
    "    reviews.append(df)\n",
    "\n",
    "reviews = pd.concat(reviews).drop_duplicates().reset_index(drop=True)\n",
    "print(f'{reviews.shape[0]} album reviews in data frame')\n",
    "reviews.head()"
   ]
  },
  {
   "cell_type": "code",
   "execution_count": 7,
   "metadata": {},
   "outputs": [],
   "source": [
    "# do list for links n"
   ]
  },
  {
   "cell_type": "markdown",
   "metadata": {},
   "source": [
    "#### Get the link of each album review and save off to text file"
   ]
  },
  {
   "cell_type": "code",
   "execution_count": 8,
   "metadata": {},
   "outputs": [
    {
     "name": "stdout",
     "output_type": "stream",
     "text": [
      "1: html_page status code 200\n",
      "2: html_page status code 200\n",
      "3: html_page status code 200\n",
      "4: html_page status code 200\n",
      "5: html_page status code 200\n",
      "6: html_page status code 200\n",
      "7: html_page status code 200\n",
      "8: html_page status code 200\n",
      "9: html_page status code 200\n",
      "10: html_page status code 200\n",
      "11: html_page status code 200\n",
      "12: html_page status code 200\n",
      "13: html_page status code 200\n",
      "14: html_page status code 200\n",
      "15: html_page status code 200\n",
      "16: html_page status code 200\n",
      "17: html_page status code 200\n",
      "18: html_page status code 200\n",
      "19: html_page status code 200\n",
      "20: html_page status code 200\n",
      "21: html_page status code 200\n",
      "22: html_page status code 200\n",
      "23: html_page status code 200\n",
      "24: html_page status code 200\n",
      "25: html_page status code 200\n",
      "26: html_page status code 200\n",
      "27: html_page status code 200\n",
      "28: html_page status code 200\n",
      "29: html_page status code 200\n",
      "30: html_page status code 200\n",
      "31: html_page status code 200\n",
      "32: html_page status code 200\n",
      "33: html_page status code 200\n",
      "34: html_page status code 200\n",
      "35: html_page status code 200\n",
      "36: html_page status code 200\n",
      "37: html_page status code 200\n",
      "38: html_page status code 200\n",
      "39: html_page status code 200\n",
      "40: html_page status code 200\n",
      "41: html_page status code 200\n",
      "42: html_page status code 200\n",
      "43: html_page status code 200\n",
      "44: html_page status code 200\n",
      "45: html_page status code 200\n",
      "46: html_page status code 200\n",
      "47: html_page status code 200\n",
      "48: html_page status code 200\n",
      "49: html_page status code 200\n",
      "50: html_page status code 200\n",
      "51: html_page status code 200\n",
      "52: html_page status code 200\n",
      "53: html_page status code 200\n",
      "54: html_page status code 200\n",
      "55: html_page status code 200\n",
      "56: html_page status code 200\n",
      "57: html_page status code 200\n",
      "58: html_page status code 200\n",
      "59: html_page status code 200\n",
      "60: html_page status code 200\n",
      "61: html_page status code 200\n",
      "62: html_page status code 200\n",
      "63: html_page status code 200\n",
      "64: html_page status code 200\n",
      "65: html_page status code 200\n",
      "66: html_page status code 200\n",
      "67: html_page status code 200\n",
      "68: html_page status code 200\n",
      "69: html_page status code 200\n",
      "70: html_page status code 200\n",
      "71: html_page status code 200\n",
      "72: html_page status code 200\n",
      "73: html_page status code 200\n",
      "74: html_page status code 200\n",
      "75: html_page status code 200\n",
      "76: html_page status code 200\n",
      "77: html_page status code 200\n",
      "78: html_page status code 200\n",
      "79: html_page status code 200\n",
      "80: html_page status code 200\n",
      "81: html_page status code 200\n",
      "82: html_page status code 200\n",
      "83: html_page status code 200\n",
      "84: html_page status code 200\n",
      "85: html_page status code 200\n",
      "86: html_page status code 200\n",
      "87: html_page status code 200\n",
      "88: html_page status code 200\n",
      "89: html_page status code 200\n",
      "90: html_page status code 200\n",
      "91: html_page status code 200\n",
      "92: html_page status code 200\n",
      "93: html_page status code 200\n",
      "94: html_page status code 200\n",
      "95: html_page status code 200\n",
      "96: html_page status code 200\n",
      "97: html_page status code 200\n",
      "98: html_page status code 200\n",
      "99: html_page status code 200\n",
      "100: html_page status code 200\n",
      "101: html_page status code 200\n",
      "102: html_page status code 200\n",
      "103: html_page status code 200\n",
      "104: html_page status code 200\n",
      "CPU times: user 14.1 s, sys: 671 ms, total: 14.8 s\n",
      "Wall time: 39.1 s\n"
     ]
    }
   ],
   "source": [
    "%%time\n",
    "# 3-4s per page (5-10min to run)\n",
    "\n",
    "new_links = []\n",
    "i = 1\n",
    "while requests.get(\"https://pitchfork.com/reviews/albums/?page=\"+str(i)).status_code==200:\n",
    "    req = urllib.request.Request(\"https://pitchfork.com/reviews/albums/?page=\" + str(i))\n",
    "    html_page = pitchfork_ratings_def.urlopen_with_retry(req)\n",
    "    print(f'{i}: html_page status code {html_page.getcode()}')\n",
    "\n",
    "    soup = BeautifulSoup(html_page, \"lxml\")\n",
    "    \n",
    "    for link in soup.findAll('a'):\n",
    "        link_get_href = link.get('href')\n",
    "        if link_get_href == '/reviews/albums/':\n",
    "            pass\n",
    "        elif link_get_href.startswith( '/reviews/albums/?genre=' ):\n",
    "            pass\n",
    "        elif link_get_href.startswith( '/reviews/albums/' ):\n",
    "            new_links.append(\"https://pitchfork.com\"+link_get_href)\n",
    "    i+=1\n",
    "\n",
    "new_links = list(set(new_links))"
   ]
  },
  {
   "cell_type": "code",
   "execution_count": 9,
   "metadata": {},
   "outputs": [
    {
     "data": {
      "text/plain": [
       "9982"
      ]
     },
     "execution_count": 9,
     "metadata": {},
     "output_type": "execute_result"
    }
   ],
   "source": [
    "len(new_links)"
   ]
  },
  {
   "cell_type": "code",
   "execution_count": 10,
   "metadata": {},
   "outputs": [],
   "source": [
    "# Save list since takes time to generate\n",
    "with open(f'{data_path}links/new_links_{datetime.datetime.now().date()}.txt', 'w') as f:\n",
    "    for item in new_links:\n",
    "        f.write(\"%s\\n\" % item)"
   ]
  },
  {
   "cell_type": "markdown",
   "metadata": {},
   "source": [
    "#### Scrape reviews for each album and save to csv"
   ]
  },
  {
   "cell_type": "code",
   "execution_count": 11,
   "metadata": {},
   "outputs": [
    {
     "name": "stdout",
     "output_type": "stream",
     "text": [
      "0 links without review data\n"
     ]
    }
   ],
   "source": [
    "links_list_with_new = links_list+new_links\n",
    "    \n",
    "checked_links = set(reviews['link'])\n",
    "not_checked_links = [x for x in links_list_with_new if x not in checked_links]\n",
    "print(f'{len(not_checked_links)} links without review data')"
   ]
  },
  {
   "cell_type": "code",
   "execution_count": 12,
   "metadata": {},
   "outputs": [],
   "source": [
    "# # test links\n",
    "# new_links = [\"https://pitchfork.com/reviews/albums/james-devane-searching/\",\n",
    "#              \"https://pitchfork.com/reviews/albums/blood-incantation-absolute-elsewhere/\",\n",
    "#              \"https://pitchfork.com/reviews/albums/body-meat-starchris/\",\n",
    "#              \"https://pitchfork.com/reviews/albums/fred-again-actual-life-3-january-1-september-9-2022/\",\n",
    "#              \"https://pitchfork.com/reviews/albums/100-gecs-10000-gecs/\"]"
   ]
  },
  {
   "cell_type": "code",
   "execution_count": 13,
   "metadata": {
    "scrolled": true
   },
   "outputs": [
    {
     "ename": "ValueError",
     "evalue": "No objects to concatenate",
     "output_type": "error",
     "traceback": [
      "\u001b[0;31m---------------------------------------------------------------------------\u001b[0m",
      "\u001b[0;31mValueError\u001b[0m                                Traceback (most recent call last)",
      "\u001b[0;32m<timed exec>\u001b[0m in \u001b[0;36m<module>\u001b[0;34m\u001b[0m\n",
      "\u001b[0;32m/opt/anaconda3/lib/python3.8/site-packages/pandas/util/_decorators.py\u001b[0m in \u001b[0;36mwrapper\u001b[0;34m(*args, **kwargs)\u001b[0m\n\u001b[1;32m    329\u001b[0m                     \u001b[0mstacklevel\u001b[0m\u001b[0;34m=\u001b[0m\u001b[0mfind_stack_level\u001b[0m\u001b[0;34m(\u001b[0m\u001b[0;34m)\u001b[0m\u001b[0;34m,\u001b[0m\u001b[0;34m\u001b[0m\u001b[0;34m\u001b[0m\u001b[0m\n\u001b[1;32m    330\u001b[0m                 )\n\u001b[0;32m--> 331\u001b[0;31m             \u001b[0;32mreturn\u001b[0m \u001b[0mfunc\u001b[0m\u001b[0;34m(\u001b[0m\u001b[0;34m*\u001b[0m\u001b[0margs\u001b[0m\u001b[0;34m,\u001b[0m \u001b[0;34m**\u001b[0m\u001b[0mkwargs\u001b[0m\u001b[0;34m)\u001b[0m\u001b[0;34m\u001b[0m\u001b[0;34m\u001b[0m\u001b[0m\n\u001b[0m\u001b[1;32m    332\u001b[0m \u001b[0;34m\u001b[0m\u001b[0m\n\u001b[1;32m    333\u001b[0m         \u001b[0;31m# error: \"Callable[[VarArg(Any), KwArg(Any)], Any]\" has no\u001b[0m\u001b[0;34m\u001b[0m\u001b[0;34m\u001b[0m\u001b[0;34m\u001b[0m\u001b[0m\n",
      "\u001b[0;32m/opt/anaconda3/lib/python3.8/site-packages/pandas/core/reshape/concat.py\u001b[0m in \u001b[0;36mconcat\u001b[0;34m(objs, axis, join, ignore_index, keys, levels, names, verify_integrity, sort, copy)\u001b[0m\n\u001b[1;32m    366\u001b[0m     \u001b[0;36m1\u001b[0m   \u001b[0;36m3\u001b[0m   \u001b[0;36m4\u001b[0m\u001b[0;34m\u001b[0m\u001b[0;34m\u001b[0m\u001b[0m\n\u001b[1;32m    367\u001b[0m     \"\"\"\n\u001b[0;32m--> 368\u001b[0;31m     op = _Concatenator(\n\u001b[0m\u001b[1;32m    369\u001b[0m         \u001b[0mobjs\u001b[0m\u001b[0;34m,\u001b[0m\u001b[0;34m\u001b[0m\u001b[0;34m\u001b[0m\u001b[0m\n\u001b[1;32m    370\u001b[0m         \u001b[0maxis\u001b[0m\u001b[0;34m=\u001b[0m\u001b[0maxis\u001b[0m\u001b[0;34m,\u001b[0m\u001b[0;34m\u001b[0m\u001b[0;34m\u001b[0m\u001b[0m\n",
      "\u001b[0;32m/opt/anaconda3/lib/python3.8/site-packages/pandas/core/reshape/concat.py\u001b[0m in \u001b[0;36m__init__\u001b[0;34m(self, objs, axis, join, keys, levels, names, ignore_index, verify_integrity, copy, sort)\u001b[0m\n\u001b[1;32m    423\u001b[0m \u001b[0;34m\u001b[0m\u001b[0m\n\u001b[1;32m    424\u001b[0m         \u001b[0;32mif\u001b[0m \u001b[0mlen\u001b[0m\u001b[0;34m(\u001b[0m\u001b[0mobjs\u001b[0m\u001b[0;34m)\u001b[0m \u001b[0;34m==\u001b[0m \u001b[0;36m0\u001b[0m\u001b[0;34m:\u001b[0m\u001b[0;34m\u001b[0m\u001b[0;34m\u001b[0m\u001b[0m\n\u001b[0;32m--> 425\u001b[0;31m             \u001b[0;32mraise\u001b[0m \u001b[0mValueError\u001b[0m\u001b[0;34m(\u001b[0m\u001b[0;34m\"No objects to concatenate\"\u001b[0m\u001b[0;34m)\u001b[0m\u001b[0;34m\u001b[0m\u001b[0;34m\u001b[0m\u001b[0m\n\u001b[0m\u001b[1;32m    426\u001b[0m \u001b[0;34m\u001b[0m\u001b[0m\n\u001b[1;32m    427\u001b[0m         \u001b[0;32mif\u001b[0m \u001b[0mkeys\u001b[0m \u001b[0;32mis\u001b[0m \u001b[0;32mNone\u001b[0m\u001b[0;34m:\u001b[0m\u001b[0;34m\u001b[0m\u001b[0;34m\u001b[0m\u001b[0m\n",
      "\u001b[0;31mValueError\u001b[0m: No objects to concatenate"
     ]
    }
   ],
   "source": [
    "%%time\n",
    "# 2s? per page (long time to run >1 hr)\n",
    "\n",
    "dat = []\n",
    "for idx, i in enumerate(not_checked_links):\n",
    "    print(f'{idx}: {i}')\n",
    "    dat.append(pitchfork_ratings_def.gather_info(i))\n",
    "\n",
    "new_reviews = pd.concat(dat).reset_index(drop=True)"
   ]
  },
  {
   "cell_type": "code",
   "execution_count": 14,
   "metadata": {},
   "outputs": [],
   "source": [
    "# new_reviews = pd.concat(dat).reset_index(drop=True)\n",
    "# new_reviews"
   ]
  },
  {
   "cell_type": "code",
   "execution_count": 15,
   "metadata": {},
   "outputs": [],
   "source": [
    "# # Testing errors\n",
    "# album_link = \"https://pitchfork.com/reviews/albums/various-artists-even-the-forest-hums-ukrainian-sonic-archives/\" \n",
    "# gather_info(album_link)\n",
    "\n",
    "# page = requests.get(album_link) #request URL\n",
    "# soup = BeautifulSoup(page.content, 'html.parser') #parse with beautifulsoup\n",
    "# soup"
   ]
  },
  {
   "cell_type": "code",
   "execution_count": 16,
   "metadata": {},
   "outputs": [
    {
     "ename": "NameError",
     "evalue": "name 'new_reviews' is not defined",
     "output_type": "error",
     "traceback": [
      "\u001b[0;31m---------------------------------------------------------------------------\u001b[0m",
      "\u001b[0;31mNameError\u001b[0m                                 Traceback (most recent call last)",
      "\u001b[0;32m/var/folders/5z/r78_k4tx73jc7k9lt835kddw0000gn/T/ipykernel_32439/1288632775.py\u001b[0m in \u001b[0;36m<module>\u001b[0;34m\u001b[0m\n\u001b[0;32m----> 1\u001b[0;31m \u001b[0mnew_reviews\u001b[0m\u001b[0;34m.\u001b[0m\u001b[0mto_csv\u001b[0m\u001b[0;34m(\u001b[0m\u001b[0;34mf'{data_path}reviews/new_reviews_{datetime.datetime.now().date()}.csv'\u001b[0m\u001b[0;34m,\u001b[0m\u001b[0mindex\u001b[0m\u001b[0;34m=\u001b[0m\u001b[0;32mFalse\u001b[0m\u001b[0;34m)\u001b[0m\u001b[0;34m\u001b[0m\u001b[0;34m\u001b[0m\u001b[0m\n\u001b[0m",
      "\u001b[0;31mNameError\u001b[0m: name 'new_reviews' is not defined"
     ]
    }
   ],
   "source": [
    "new_reviews.to_csv(f'{data_path}reviews/new_reviews_{datetime.datetime.now().date()}.csv',index=False)"
   ]
  }
 ],
 "metadata": {
  "kernelspec": {
   "display_name": "Python 3 (ipykernel)",
   "language": "python",
   "name": "python3"
  },
  "language_info": {
   "codemirror_mode": {
    "name": "ipython",
    "version": 3
   },
   "file_extension": ".py",
   "mimetype": "text/x-python",
   "name": "python",
   "nbconvert_exporter": "python",
   "pygments_lexer": "ipython3",
   "version": "3.8.3"
  }
 },
 "nbformat": 4,
 "nbformat_minor": 4
}
