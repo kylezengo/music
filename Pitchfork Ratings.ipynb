{
 "cells": [
  {
   "cell_type": "code",
   "execution_count": null,
   "metadata": {},
   "outputs": [],
   "source": [
    "# https://github.com/evanm31/p4k-scraper/blob/master/data/scrapefork.py"
   ]
  },
  {
   "cell_type": "code",
   "execution_count": null,
   "metadata": {},
   "outputs": [],
   "source": [
    "# !python -m pip install retry\n",
    "# !python -m pip install backoff"
   ]
  },
  {
   "cell_type": "markdown",
   "metadata": {},
   "source": [
    "Import packages and set uip enviornment"
   ]
  },
  {
   "cell_type": "code",
   "execution_count": null,
   "metadata": {},
   "outputs": [],
   "source": [
    "import urllib\n",
    "import re\n",
    "import time\n",
    "import retry\n",
    "import backoff\n",
    "import pandas as pd\n",
    "import requests\n",
    "import datetime\n",
    "import os\n",
    "from bs4 import BeautifulSoup\n",
    "\n",
    "import pitchfork_ratings_def # my custom functions from github\n",
    "\n",
    "if os.name == \"posix\":\n",
    "    data_path = \"/Users/kylezengo/Desktop/DS/Music Ratings/\""
   ]
  },
  {
   "cell_type": "markdown",
   "metadata": {},
   "source": [
    "Load historic data"
   ]
  },
  {
   "cell_type": "code",
   "execution_count": null,
   "metadata": {},
   "outputs": [],
   "source": [
    "# Load list of album review links\n",
    "links_file_list = os.listdir(data_path+\"links\")\n",
    "\n",
    "links_list = []\n",
    "for i in links_file_list:\n",
    "    links = open(data_path+\"links/\"+i)\n",
    "    links = links.read().splitlines()\n",
    "    \n",
    "    links_list += links\n",
    "\n",
    "links_list = list(set(links_list))\n",
    "links_list = [x for x in links_list if x.startswith(\"https\")]\n",
    "print(f'{len(links_list)} album review links')"
   ]
  },
  {
   "cell_type": "code",
   "execution_count": null,
   "metadata": {},
   "outputs": [],
   "source": [
    "# # Not sure what to do with this yet...\n",
    "# pd.read_csv(data_path+\"reviews/pitchfork_reviews_hist.csv\").head()"
   ]
  },
  {
   "cell_type": "code",
   "execution_count": null,
   "metadata": {},
   "outputs": [],
   "source": [
    "reviews_file_list = os.listdir(data_path+\"reviews\")\n",
    "reviews_file_list.remove('pitchfork_reviews_hist.csv')\n",
    "\n",
    "reviews = []\n",
    "for i in reviews_file_list:\n",
    "    df = pd.read_csv(data_path+\"reviews/\"+i)\n",
    "    reviews.append(df)\n",
    "\n",
    "reviews = pd.concat(reviews).drop_duplicates().reset_index(drop=True)\n",
    "print(f'{reviews.shape[0]} album reviews in data frame')\n",
    "reviews.head()"
   ]
  },
  {
   "cell_type": "markdown",
   "metadata": {},
   "source": [
    "Get the link of each album review and save off to text file"
   ]
  },
  {
   "cell_type": "code",
   "execution_count": null,
   "metadata": {},
   "outputs": [],
   "source": [
    "%%time\n",
    "# 3-4s per page (5-10min to run)\n",
    "\n",
    "new_links = []\n",
    "i = 1\n",
    "while requests.get(\"https://pitchfork.com/reviews/albums/?page=\"+str(i)).status_code==200:\n",
    "    req = urllib.request.Request(\"https://pitchfork.com/reviews/albums/?page=\" + str(i))\n",
    "    html_page = pitchfork_ratings_def.urlopen_with_retry(req)\n",
    "    print(f'{i}: html_page status code {html_page.getcode()}')\n",
    "\n",
    "    soup = BeautifulSoup(html_page, \"lxml\")\n",
    "    \n",
    "    for link in soup.findAll('a'):\n",
    "        link_get_href = link.get('href')\n",
    "        if link_get_href == '/reviews/albums/':\n",
    "            pass\n",
    "        elif link_get_href.startswith( '/reviews/albums/?genre=' ):\n",
    "            pass\n",
    "        elif link_get_href.startswith( '/reviews/albums/' ):\n",
    "            new_links.append(\"https://pitchfork.com\"+link_get_href)\n",
    "    i+=1\n",
    "\n",
    "new_links = list(set(new_links))"
   ]
  },
  {
   "cell_type": "code",
   "execution_count": null,
   "metadata": {},
   "outputs": [],
   "source": [
    "len(new_links)"
   ]
  },
  {
   "cell_type": "code",
   "execution_count": null,
   "metadata": {},
   "outputs": [],
   "source": [
    "# Save list since takes time to generate\n",
    "with open(f'{data_path}links/new_links_{datetime.datetime.now().date()}.txt', 'w') as f:\n",
    "    for item in new_links:\n",
    "        f.write(\"%s\\n\" % item)"
   ]
  },
  {
   "cell_type": "markdown",
   "metadata": {},
   "source": [
    "Scrape reviews for each album and save to csv"
   ]
  },
  {
   "cell_type": "code",
   "execution_count": null,
   "metadata": {},
   "outputs": [],
   "source": [
    "links_list_with_new = links_list+new_links\n",
    "    \n",
    "checked_links = set(df['link'])\n",
    "not_checked_links = [x for x in links_list_with_new if x not in checked_links]\n",
    "print(f'{len(not_checked_links)} links without review data')"
   ]
  },
  {
   "cell_type": "code",
   "execution_count": null,
   "metadata": {},
   "outputs": [],
   "source": [
    "# # test links\n",
    "# new_links = [\"https://pitchfork.com/reviews/albums/james-devane-searching/\",\n",
    "#              \"https://pitchfork.com/reviews/albums/blood-incantation-absolute-elsewhere/\",\n",
    "#              \"https://pitchfork.com/reviews/albums/body-meat-starchris/\",\n",
    "#              \"https://pitchfork.com/reviews/albums/fred-again-actual-life-3-january-1-september-9-2022/\",\n",
    "#              \"https://pitchfork.com/reviews/albums/100-gecs-10000-gecs/\"]"
   ]
  },
  {
   "cell_type": "code",
   "execution_count": null,
   "metadata": {
    "scrolled": true
   },
   "outputs": [],
   "source": [
    "%%time\n",
    "# 2s? per page (long time to run >1 hr)\n",
    "\n",
    "dat = []\n",
    "for idx, i in enumerate(not_checked_links):\n",
    "    print(f'{idx}: {i}')\n",
    "    dat.append(pitchfork_ratings_def.gather_info(i))\n",
    "\n",
    "new_reviews = pd.concat(dat).reset_index(drop=True)"
   ]
  },
  {
   "cell_type": "code",
   "execution_count": null,
   "metadata": {},
   "outputs": [],
   "source": [
    "new_reviews = pd.concat(dat).reset_index(drop=True)"
   ]
  },
  {
   "cell_type": "code",
   "execution_count": null,
   "metadata": {},
   "outputs": [],
   "source": [
    "new_reviews"
   ]
  },
  {
   "cell_type": "code",
   "execution_count": null,
   "metadata": {},
   "outputs": [],
   "source": [
    "# # Testing errors\n",
    "# album_link = \"https://pitchfork.com/reviews/albums/various-artists-even-the-forest-hums-ukrainian-sonic-archives/\" \n",
    "# gather_info(album_link)\n",
    "\n",
    "# page = requests.get(album_link) #request URL\n",
    "# soup = BeautifulSoup(page.content, 'html.parser') #parse with beautifulsoup\n",
    "# soup"
   ]
  },
  {
   "cell_type": "code",
   "execution_count": null,
   "metadata": {},
   "outputs": [],
   "source": [
    "new_reviews.to_csv(f'{data_path}reviews/new_reviews_{datetime.datetime.now().date()}.csv',index=False)"
   ]
  }
 ],
 "metadata": {
  "kernelspec": {
   "display_name": "Python 3 (ipykernel)",
   "language": "python",
   "name": "python3"
  },
  "language_info": {
   "codemirror_mode": {
    "name": "ipython",
    "version": 3
   },
   "file_extension": ".py",
   "mimetype": "text/x-python",
   "name": "python",
   "nbconvert_exporter": "python",
   "pygments_lexer": "ipython3",
   "version": "3.8.3"
  }
 },
 "nbformat": 4,
 "nbformat_minor": 4
}
