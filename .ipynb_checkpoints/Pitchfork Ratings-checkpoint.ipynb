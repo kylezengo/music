{
 "cells": [
  {
   "cell_type": "code",
   "execution_count": null,
   "metadata": {},
   "outputs": [],
   "source": [
    "# https://github.com/evanm31/p4k-scraper/blob/master/data/scrapefork.py"
   ]
  },
  {
   "cell_type": "code",
   "execution_count": 9,
   "metadata": {},
   "outputs": [],
   "source": [
    "# !python -m pip install retry\n",
    "# !python -m pip install backoff"
   ]
  },
  {
   "cell_type": "code",
   "execution_count": 7,
   "metadata": {},
   "outputs": [],
   "source": [
    "import urllib\n",
    "import re\n",
    "import time\n",
    "import retry\n",
    "import backoff\n",
    "import pandas as pd\n",
    "import requests\n",
    "import datetime\n",
    "import os\n",
    "from bs4 import BeautifulSoup\n",
    "from urllib.request import Request, urlopen"
   ]
  },
  {
   "cell_type": "code",
   "execution_count": 139,
   "metadata": {},
   "outputs": [],
   "source": [
    "def gather_info(album_link):\n",
    "    '''\n",
    "    This function parses the HTML of the page and attempts to gather attributes like artist name, album, genre,\n",
    "    date, and the review text itself, instead inputting a null value if the requested element is not found on\n",
    "    the page. All of the data are put into a Pandas dataframe and returned for use in the gather function.\n",
    "    VARIABLES\n",
    "    album_link - A string that refers to the album section of a link to a Pitchfork review.\n",
    "    e.g. '/reviews/albums/neil-young-promise-of-the-real-visitor/'\n",
    "    '''\n",
    "    page = requests.get(album_link) #request URL\n",
    "    soup = BeautifulSoup(page.content, 'html.parser') #parse with beautifulsoup\n",
    "\n",
    "    status = True\n",
    "    while status:\n",
    "        if page.status_code != 200:\n",
    "            print(\"Error: \",page.status_code)\n",
    "            time.sleep(2)\n",
    "            page = requests.get(album_link) #request URL\n",
    "            soup = BeautifulSoup(page.content, 'html.parser') #parse with beautifulsoup\n",
    "        else:\n",
    "            status = False\n",
    "    \n",
    "    title = str(soup.find('title').string) #album and artist \n",
    "    try:\n",
    "        score = float((soup.find(class_=\"score\").string)) #score\n",
    "    except AttributeError:\n",
    "        try:\n",
    "            score = float((soup.find(class_=\"BaseWrap-sc-gjQpdd BaseText-ewhhUZ Rating-bkjebD iUEiRd bwCcXY imqiqZ\").string)) #score\n",
    "        except:\n",
    "            score = None\n",
    "    try:\n",
    "        genre = soup.find(class_=\"genre-list__link\").string #genre\n",
    "    except AttributeError:\n",
    "        genre = None\n",
    "    sents = [element.text for element in soup.find_all('p')] #cleaned text output\n",
    "    the_text = \" \".join(sents).split('Reviewed: ',1)[1]\n",
    "    the_text = the_text.split(\" \",3)\n",
    "    review_text = the_text[3]\n",
    "    try:\n",
    "        reviewed_date = str(soup.find(class_=\"pub-date\").string) #date\n",
    "    except AttributeError:\n",
    "        reviewed_date = the_text[0]+\" \"+the_text[1]+\" \"+the_text[2]\n",
    "\n",
    "    df = pd.DataFrame({'artist': [get_artist(title)]\n",
    "                       ,'album': [get_album(title)]\n",
    "                       ,'score': [score]\n",
    "                       ,'genre': [genre]\n",
    "                       ,'review': [review_text]\n",
    "                       ,'best': [1 if \"Best new\" in review_text else 0]\n",
    "                       ,'reviewed_date': [reviewed_date]\n",
    "                       ,'link':[album_link]})\n",
    "    return df\n",
    "\n",
    "def get_artist(title):\n",
    "    '''\n",
    "    This function retreives the artist name from the scraped title string.\n",
    "    VARIABLES\n",
    "    title - A string of a cleaned Pitchfork album review title.\n",
    "    '''\n",
    "    str = ''\n",
    "    for character in title: #for each character in title\n",
    "        #add to string up until ':' \n",
    "        if character != \":\":\n",
    "            str += character\n",
    "        else:\n",
    "            break\n",
    "    return str\n",
    "        \n",
    "def get_album(title):\n",
    "    '''\n",
    "    This function retreives the album name from the scraped title string.\n",
    "    VARIABLES\n",
    "    title - A string of a cleaned Pitchfork album review title.\n",
    "    ''' \n",
    "    str = ''\n",
    "    #find ':' and index and start there\n",
    "    index = title.find(\":\")\n",
    "    title = title[index+2:]\n",
    "    #for each character afterwards, add it until '|'\n",
    "    for character in title:\n",
    "        if character == \"|\":\n",
    "            break\n",
    "        else:\n",
    "            str +=character\n",
    "    return str[:-14] #return just the title"
   ]
  },
  {
   "cell_type": "code",
   "execution_count": null,
   "metadata": {},
   "outputs": [],
   "source": [
    "pd.DataFrame({'artist': 'ab'\n",
    "              ,'album': 'b'\n",
    "              ,'score': 'c'\n",
    "              ,'genre': 'd'\n",
    "              ,'link':'e'})"
   ]
  },
  {
   "cell_type": "code",
   "execution_count": null,
   "metadata": {},
   "outputs": [],
   "source": [
    "@retry.retry(urllib.error.URLError, tries=4, delay=3, backoff=2)\n",
    "def urlopen_with_\n",
    "retry(url):\n",
    "    return urlopen(url)"
   ]
  },
  {
   "cell_type": "code",
   "execution_count": null,
   "metadata": {},
   "outputs": [],
   "source": [
    "# Load list of album review links\n",
    "links_file_list = os.listdir(\"/Users/kylezengo/Desktop/DS/Music Ratings/pitchfork_links\")\n",
    "\n",
    "links_list = []\n",
    "for i in links_file_list:\n",
    "    links = open(\"/Users/kylezengo/Desktop/DS/Music Ratings/pitchfork_links/\"+i)\n",
    "    links = links.read().splitlines()\n",
    "    \n",
    "    links_list += links\n",
    "\n",
    "links_list = list(set(links_list))\n",
    "links_list = [x for x in links_list if x.startswith(\"https\")]\n",
    "print(f'{len(links_list)} album review links')"
   ]
  },
  {
   "cell_type": "code",
   "execution_count": null,
   "metadata": {
    "scrolled": true
   },
   "outputs": [],
   "source": [
    "%%time\n",
    "# Get the link of each album review\n",
    "# Takes over 14 hours to run!\n",
    "\n",
    "new_links = []\n",
    "# for i in range(1,1987): # 1987 final page on 2021-08-18\n",
    "for i in range(1,5):\n",
    "    print(str(i)+\":\",requests.get(\"https://pitchfork.com/reviews/albums/?page=\" + str(i)))\n",
    "    req = Request(\"https://pitchfork.com/reviews/albums/?page=\" + str(i))\n",
    "    html_page = urlopen_with_retry(req)\n",
    "\n",
    "    soup = BeautifulSoup(html_page, \"lxml\")\n",
    "    \n",
    "    for link in soup.findAll('a'):\n",
    "        link_get_href = link.get('href')\n",
    "        if link_get_href == '/reviews/albums/':\n",
    "            pass\n",
    "        elif link_get_href.startswith( '/reviews/albums/?genre=' ):\n",
    "            pass\n",
    "        elif link_get_href.startswith( '/reviews/albums/' ):\n",
    "            new_links.append(\"https://pitchfork.com\"+link_get_href)\n",
    "\n",
    "new_links = list(set(new_links))"
   ]
  },
  {
   "cell_type": "code",
   "execution_count": null,
   "metadata": {},
   "outputs": [],
   "source": [
    "len(new_links)"
   ]
  },
  {
   "cell_type": "code",
   "execution_count": null,
   "metadata": {},
   "outputs": [],
   "source": [
    "# Save list since takes time to generate\n",
    "with open(f'/Users/kylezengo/Desktop/DS/Music Ratings/pitchfork_links/pitchfork_links_{datetime.datetime.now().date()}.txt', 'w') as f:\n",
    "    for item in new_links:\n",
    "        f.write(\"%s\\n\" % item)"
   ]
  },
  {
   "cell_type": "code",
   "execution_count": null,
   "metadata": {
    "scrolled": true
   },
   "outputs": [],
   "source": [
    "%%time\n",
    "dat = []\n",
    "for idx, i in enumerate(new_links):\n",
    "    print(f'{idx}: {i}')\n",
    "    dat.append(gather_info(i))\n",
    "\n",
    "reviews = pd.concat(dat)"
   ]
  },
  {
   "cell_type": "code",
   "execution_count": 37,
   "metadata": {},
   "outputs": [],
   "source": [
    "# # Test if break on bad page\n",
    "# gather_info(\"https://pitchfork.com/reviews/albums/james-devane-searching/\")"
   ]
  },
  {
   "cell_type": "code",
   "execution_count": null,
   "metadata": {},
   "outputs": [],
   "source": []
  },
  {
   "cell_type": "code",
   "execution_count": 141,
   "metadata": {},
   "outputs": [
    {
     "data": {
      "text/html": [
       "<div>\n",
       "<style scoped>\n",
       "    .dataframe tbody tr th:only-of-type {\n",
       "        vertical-align: middle;\n",
       "    }\n",
       "\n",
       "    .dataframe tbody tr th {\n",
       "        vertical-align: top;\n",
       "    }\n",
       "\n",
       "    .dataframe thead th {\n",
       "        text-align: right;\n",
       "    }\n",
       "</style>\n",
       "<table border=\"1\" class=\"dataframe\">\n",
       "  <thead>\n",
       "    <tr style=\"text-align: right;\">\n",
       "      <th></th>\n",
       "      <th>artist</th>\n",
       "      <th>album</th>\n",
       "      <th>score</th>\n",
       "      <th>genre</th>\n",
       "      <th>review</th>\n",
       "      <th>best</th>\n",
       "      <th>reviewed_date</th>\n",
       "      <th>link</th>\n",
       "    </tr>\n",
       "  </thead>\n",
       "  <tbody>\n",
       "    <tr>\n",
       "      <th>0</th>\n",
       "      <td>James Devane</td>\n",
       "      <td>Searching</td>\n",
       "      <td>7.7</td>\n",
       "      <td>None</td>\n",
       "      <td>In the 14 years between his first and second s...</td>\n",
       "      <td>0</td>\n",
       "      <td>May 28, 2024</td>\n",
       "      <td>https://pitchfork.com/reviews/albums/james-dev...</td>\n",
       "    </tr>\n",
       "  </tbody>\n",
       "</table>\n",
       "</div>"
      ],
      "text/plain": [
       "         artist      album  score genre  \\\n",
       "0  James Devane  Searching    7.7  None   \n",
       "\n",
       "                                              review  best reviewed_date  \\\n",
       "0  In the 14 years between his first and second s...     0  May 28, 2024   \n",
       "\n",
       "                                                link  \n",
       "0  https://pitchfork.com/reviews/albums/james-dev...  "
      ]
     },
     "execution_count": 141,
     "metadata": {},
     "output_type": "execute_result"
    }
   ],
   "source": [
    "gather_info(\"https://pitchfork.com/reviews/albums/james-devane-searching/\")"
   ]
  },
  {
   "cell_type": "code",
   "execution_count": null,
   "metadata": {},
   "outputs": [],
   "source": [
    "reviews = pd.concat(dat)\n",
    "reviews"
   ]
  },
  {
   "cell_type": "code",
   "execution_count": null,
   "metadata": {},
   "outputs": [],
   "source": [
    "# reviews.to_csv(\"/Users/kylezengo/Desktop/reviews.csv\",index=False)"
   ]
  }
 ],
 "metadata": {
  "kernelspec": {
   "display_name": "Python 3 (ipykernel)",
   "language": "python",
   "name": "python3"
  },
  "language_info": {
   "codemirror_mode": {
    "name": "ipython",
    "version": 3
   },
   "file_extension": ".py",
   "mimetype": "text/x-python",
   "name": "python",
   "nbconvert_exporter": "python",
   "pygments_lexer": "ipython3",
   "version": "3.11.7"
  }
 },
 "nbformat": 4,
 "nbformat_minor": 4
}
